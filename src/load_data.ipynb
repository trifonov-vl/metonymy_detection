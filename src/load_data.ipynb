{
 "cells": [
  {
   "cell_type": "code",
   "execution_count": 3,
   "metadata": {},
   "outputs": [],
   "source": [
    "from os import listdir\n",
    "from os.path import isfile, join\n",
    "\n",
    "test_path = \"../resources/testset\"\n",
    "dev_path = \"../resources/devset\"\n",
    "\n",
    "test_files = [join(test_path,f) for f in listdir(test_path) if isfile(join(test_path, f))]\n",
    "dev_files = [join(dev_path,f) for f in listdir(dev_path) if isfile(join(dev_path, f))]"
   ]
  },
  {
   "cell_type": "code",
   "execution_count": 21,
   "metadata": {},
   "outputs": [],
   "source": [
    "class Document:\n",
    "    def __init__(self, id, tokens, entities, sentences):\n",
    "        self.id = id #book id\n",
    "        self.tokens = tokens\n",
    "        self.entities = entities\n",
    "        self.sentences = sentences\n",
    "\n",
    "class Entity:\n",
    "    def __init__(self, id, span_id, ent_type, start_token, end_token):\n",
    "        self.id = id #id in objects file\n",
    "        self.span_id = span_id #id in span file\n",
    "        self.ent_type = ent_type\n",
    "        self.start_token = start_token\n",
    "        self.end_token = end_token\n",
    "\n",
    "class Sentence:\n",
    "    def __init__(self, start_token, end_token):\n",
    "        self.start_token = start_token\n",
    "        self.end_token = end_token"
   ]
  },
  {
   "cell_type": "code",
   "execution_count": 20,
   "metadata": {},
   "outputs": [
    {
     "data": {
      "text/plain": [
       "'383'"
      ]
     },
     "execution_count": 20,
     "metadata": {},
     "output_type": "execute_result"
    }
   ],
   "source": [
    "import re\n",
    "\n",
    "\n",
    "def generate_doc(tokens_file, span_file, objects_file):\n",
    "    tokens = []\n",
    "    sentences = []\n",
    "    \n",
    "    \n",
    "    current_start = 0\n",
    "    current_id = 0\n",
    "    for line in tokens_file.strip().split('\\n'):\n",
    "        if line == \"\":\n",
    "            sentences.append(Sentence(current_start,current_id))\n",
    "            current_start = current_id\n",
    "            continue\n",
    "        \n",
    "        token = line.strip().split(' ')[-1]\n",
    "        \n",
    "        tokens.append(token)\n",
    "        current_id += 1\n",
    "        \n",
    "    \n",
    "        \n",
    "            \n",
    "            \n",
    "        \n",
    "        \n",
    "    \n",
    "\n",
    "\n",
    "def read_docs(files):\n",
    "    re_pattern = \"\\d+\"\n",
    "    p = re.compile(re_pattern)\n",
    "    \n",
    "    files_with_id = dict()\n",
    "    for f in files:\n",
    "        file_id = int(p.search(f).group())\n",
    "        lst = files_with_id.setdefault(file_id, list())\n",
    "        lst.append(f)\n",
    "    \n",
    "    docs = []\n",
    "    for id, lst in files_with_id:\n",
    "        tokens = []\n",
    "        entities = []\n",
    "        \n",
    "        span_file = None\n",
    "        tokens_file = None\n",
    "        objects_file = None\n",
    "        \n",
    "        for file in lst:\n",
    "            \n",
    "            with open(file, \"r\") as open_file:\n",
    "                file_content = open_file.read()\n",
    "                        \n",
    "            if file[-4:] == \"span\":\n",
    "                span_file = file_content\n",
    "            elif file[-7:] == \"objects\":\n",
    "                objects_file = file_content\n",
    "            elif file[-6:] == \"tokens\":\n",
    "                tokens_file = file_content\n",
    "                \n",
    "        docs.append(generate_doc(tokens_file, span_file, objects_file))\n",
    "    \n",
    "    return docs             \n",
    "                     \n",
    "        \n",
    "        \n",
    "\n",
    "read_docs([])"
   ]
  },
  {
   "cell_type": "code",
   "execution_count": null,
   "metadata": {},
   "outputs": [],
   "source": []
  }
 ],
 "metadata": {
  "kernelspec": {
   "display_name": "Python 3",
   "language": "python",
   "name": "python3"
  },
  "language_info": {
   "codemirror_mode": {
    "name": "ipython",
    "version": 3
   },
   "file_extension": ".py",
   "mimetype": "text/x-python",
   "name": "python",
   "nbconvert_exporter": "python",
   "pygments_lexer": "ipython3",
   "version": "3.5.2"
  }
 },
 "nbformat": 4,
 "nbformat_minor": 2
}
